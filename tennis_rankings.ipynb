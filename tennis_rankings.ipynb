{
 "metadata": {
  "name": "",
  "signature": "sha256:70f5327e5aeea1d4f8530668375b6b47d117169509b40870f94d1ea1f0977944"
 },
 "nbformat": 3,
 "nbformat_minor": 0,
 "worksheets": [
  {
   "cells": [
    {
     "cell_type": "code",
     "collapsed": false,
     "input": [
      "import urllib.request as urllib2\n",
      "from bs4 import BeautifulSoup\n",
      "import pandas as pd\n",
      "import time"
     ],
     "language": "python",
     "metadata": {},
     "outputs": [],
     "prompt_number": 1
    },
    {
     "cell_type": "code",
     "collapsed": false,
     "input": [
      "def get_page(url):\n",
      "    user_agent = 'Mozilla/5 (Solaris 10) Gecko'\n",
      "    headers = {'User-Agent' : user_agent}\n",
      "    request = urllib2.Request(url, headers=headers)\n",
      "    response = urllib2.urlopen(request)\n",
      "    the_page = response.read()\n",
      "    pool = BeautifulSoup(the_page)\n",
      "    return pool"
     ],
     "language": "python",
     "metadata": {},
     "outputs": [],
     "prompt_number": 2
    },
    {
     "cell_type": "code",
     "collapsed": false,
     "input": [
      "def get_recs(pool):\n",
      "    '''\n",
      "    obtain rows of the rankings tables (rank, name, points, week change, tournaments played),\n",
      "    returns them as a list of tuples, i.e. a structured records\n",
      "    '''\n",
      "    results = pool.find('table', attrs={'class' : 'bioTableAlt'})\n",
      "    \n",
      "    recs = []\n",
      "    \n",
      "    for i in range(1, len(results.findAll('tr'))):\n",
      "        rows = results.findAll('tr')[i]\n",
      "        cols = rows.findAll('td')\n",
      "        recs.append(tuple([cols[0].span.string, cols[0].a.string.replace(',&nbsp;', ';'), cols[1].a.string, cols[2].string, cols[3].a.string]))\n",
      "    \n",
      "    return recs"
     ],
     "language": "python",
     "metadata": {},
     "outputs": [],
     "prompt_number": 3
    },
    {
     "cell_type": "code",
     "collapsed": false,
     "input": [
      "# path to store output files\n",
      "path = '/Volumes/MACDISK2/data/tennis/'\n",
      "\n",
      "# get dates of files already stored on disk\n",
      "files = !ls $path\n",
      "stored_dates = [f.strip('.csv').replace('_', '.') for f in files]\n",
      "\n",
      "# download a page to get all available dates on website\n",
      "pool = get_page('http://www.atpworldtour.com/Rankings/Singles.aspx?d=14.01.2013&r=1&c=#')\n",
      "options = pool.findAll('select', attrs={'id' : 'singlesDates'})[0].findAll('option')\n",
      "dates = [str(x.string) for x in options]\n",
      "\n",
      "# get only dates that are not yet in disk\n",
      "dates = [x for x in dates if x not in stored_dates]\n",
      "\n",
      "# crawling loop\n",
      "for date in dates:\n",
      "    # determine date for the url\n",
      "    print('processing date {} ...'.format(date))\n",
      "    url = 'http://www.atpworldtour.com/Rankings/Singles.aspx?d=%s&r=1&c=#' % date\n",
      "    \n",
      "    pool = get_page(url)\n",
      "    recs = get_recs(pool)\n",
      "    \n",
      "    if recs:\n",
      "        out = pd.DataFrame(recs, columns=['rank', 'name', 'points', 'week_change', 'tourn_played'])\n",
      "    \n",
      "        # save to file\n",
      "        u = date.replace('.', '_')\n",
      "        filename = path + u + '.csv'\n",
      "        out.to_csv(filename, index=False)\n",
      "    \n",
      "    time.sleep(10)"
     ],
     "language": "python",
     "metadata": {},
     "outputs": [
      {
       "output_type": "stream",
       "stream": "stdout",
       "text": [
        "processing date 29.09.1997 ...\n",
        "processing date 03.03.1985 ..."
       ]
      },
      {
       "output_type": "stream",
       "stream": "stdout",
       "text": [
        "\n",
        "processing date 17.10.1984 ..."
       ]
      },
      {
       "output_type": "stream",
       "stream": "stdout",
       "text": [
        "\n",
        "processing date 19.07.1982 ..."
       ]
      },
      {
       "output_type": "stream",
       "stream": "stdout",
       "text": [
        "\n",
        "processing date 29.03.1982 ..."
       ]
      },
      {
       "output_type": "stream",
       "stream": "stdout",
       "text": [
        "\n",
        "processing date 08.06.1981 ..."
       ]
      },
      {
       "output_type": "stream",
       "stream": "stdout",
       "text": [
        "\n",
        "processing date 12.11.1979 ..."
       ]
      },
      {
       "output_type": "stream",
       "stream": "stdout",
       "text": [
        "\n",
        "processing date 24.09.1979 ..."
       ]
      },
      {
       "output_type": "stream",
       "stream": "stdout",
       "text": [
        "\n",
        "processing date 16.07.1979 ..."
       ]
      },
      {
       "output_type": "stream",
       "stream": "stdout",
       "text": [
        "\n",
        "processing date 05.02.1979 ..."
       ]
      },
      {
       "output_type": "stream",
       "stream": "stdout",
       "text": [
        "\n",
        "processing date 22.05.1978 ..."
       ]
      },
      {
       "output_type": "stream",
       "stream": "stdout",
       "text": [
        "\n"
       ]
      }
     ],
     "prompt_number": 4
    }
   ],
   "metadata": {}
  }
 ]
}